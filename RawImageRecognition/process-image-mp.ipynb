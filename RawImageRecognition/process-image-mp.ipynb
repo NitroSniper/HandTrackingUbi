{
 "cells": [
  {
   "metadata": {
    "ExecuteTime": {
     "end_time": "2025-05-19T20:35:13.625543Z",
     "start_time": "2025-05-19T20:35:13.619345Z"
    }
   },
   "cell_type": "code",
   "source": [
    "import numpy as np\n",
    "import mediapipe as mp\n",
    "import os\n",
    "import pandas as pd"
   ],
   "id": "91be474655b75ef1",
   "outputs": [],
   "execution_count": 9
  },
  {
   "metadata": {
    "ExecuteTime": {
     "end_time": "2025-05-19T20:35:13.658914Z",
     "start_time": "2025-05-19T20:35:13.651451Z"
    }
   },
   "cell_type": "code",
   "source": [
    "def process_raw_features(raw_features: mp.tasks.vision.HandLandmarkerResult):\n",
    "    landmarks = []\n",
    "    for hand_landmarks in results.hand_landmarks:\n",
    "        x_coordinates = np.array([landmark.x for landmark in hand_landmarks])\n",
    "        x_min, x_max = x_coordinates.min(), x_coordinates.max()\n",
    "        norm_x_coordinates = (x_coordinates - x_min) / (x_max - x_min)\n",
    "        y_coordinates = np.array([landmark.y for landmark in hand_landmarks])\n",
    "        y_min, y_max = y_coordinates.min(), y_coordinates.max()\n",
    "        norm_y_coordinates = (y_coordinates - y_min) / (y_max - y_min)\n",
    "        z_coordinates = np.array([landmark.z for landmark in hand_landmarks])\n",
    "\n",
    "        landmarks.append(np.array([\n",
    "            [x, y, z] for x, y, z in zip(norm_x_coordinates, norm_y_coordinates,     z_coordinates)\n",
    "        ]).flatten())\n",
    "    return landmarks"
   ],
   "id": "864b428827eb3e84",
   "outputs": [],
   "execution_count": 10
  },
  {
   "metadata": {
    "ExecuteTime": {
     "end_time": "2025-05-19T20:35:13.700687Z",
     "start_time": "2025-05-19T20:35:13.679764Z"
    }
   },
   "cell_type": "code",
   "source": [
    "columns = []\n",
    "for i in range(21):  # 21 hand landmarks\n",
    "    columns += [f'x{i}', f'y{i}', f'z{i}']\n",
    "columns += [\"Class\"]\n",
    "df = pd.DataFrame(columns=columns)\n",
    "df"
   ],
   "id": "8132fdd4aded86ef",
   "outputs": [
    {
     "data": {
      "text/plain": [
       "Empty DataFrame\n",
       "Columns: [x0, y0, z0, x1, y1, z1, x2, y2, z2, x3, y3, z3, x4, y4, z4, x5, y5, z5, x6, y6, z6, x7, y7, z7, x8, y8, z8, x9, y9, z9, x10, y10, z10, x11, y11, z11, x12, y12, z12, x13, y13, z13, x14, y14, z14, x15, y15, z15, x16, y16, z16, x17, y17, z17, x18, y18, z18, x19, y19, z19, x20, y20, z20, Class]\n",
       "Index: []\n",
       "\n",
       "[0 rows x 64 columns]"
      ],
      "text/html": [
       "<div>\n",
       "<style scoped>\n",
       "    .dataframe tbody tr th:only-of-type {\n",
       "        vertical-align: middle;\n",
       "    }\n",
       "\n",
       "    .dataframe tbody tr th {\n",
       "        vertical-align: top;\n",
       "    }\n",
       "\n",
       "    .dataframe thead th {\n",
       "        text-align: right;\n",
       "    }\n",
       "</style>\n",
       "<table border=\"1\" class=\"dataframe\">\n",
       "  <thead>\n",
       "    <tr style=\"text-align: right;\">\n",
       "      <th></th>\n",
       "      <th>x0</th>\n",
       "      <th>y0</th>\n",
       "      <th>z0</th>\n",
       "      <th>x1</th>\n",
       "      <th>y1</th>\n",
       "      <th>z1</th>\n",
       "      <th>x2</th>\n",
       "      <th>y2</th>\n",
       "      <th>z2</th>\n",
       "      <th>x3</th>\n",
       "      <th>...</th>\n",
       "      <th>x18</th>\n",
       "      <th>y18</th>\n",
       "      <th>z18</th>\n",
       "      <th>x19</th>\n",
       "      <th>y19</th>\n",
       "      <th>z19</th>\n",
       "      <th>x20</th>\n",
       "      <th>y20</th>\n",
       "      <th>z20</th>\n",
       "      <th>Class</th>\n",
       "    </tr>\n",
       "  </thead>\n",
       "  <tbody>\n",
       "  </tbody>\n",
       "</table>\n",
       "<p>0 rows × 64 columns</p>\n",
       "</div>"
      ]
     },
     "execution_count": 11,
     "metadata": {},
     "output_type": "execute_result"
    }
   ],
   "execution_count": 11
  },
  {
   "metadata": {
    "ExecuteTime": {
     "end_time": "2025-05-19T20:35:27.332785Z",
     "start_time": "2025-05-19T20:35:13.800623Z"
    }
   },
   "cell_type": "code",
   "source": [
    "# Initialize MediaPipe HandLandmarker\n",
    "base_options = mp.tasks.BaseOptions(model_asset_path='hand_landmarker.task')\n",
    "options = mp.tasks.vision.HandLandmarkerOptions(\n",
    "    base_options=base_options, num_hands=1, running_mode=mp.tasks.vision.RunningMode.IMAGE\n",
    ")\n",
    "\n",
    "# Folder containing your images\n",
    "image_folder = 'new_images/'\n",
    "# Loop through all images\n",
    "with mp.tasks.vision.HandLandmarker.create_from_options(options) as mp_hands:\n",
    "    for cls in os.listdir(image_folder):\n",
    "        cls_dir = os.path.join(image_folder, cls)\n",
    "        for filename in os.listdir(cls_dir):\n",
    "            if filename.lower().endswith(('.png', '.jpg', '.jpeg')):\n",
    "                image_path = os.path.join(cls_dir, filename)\n",
    "                image = mp.Image.create_from_file(image_path)\n",
    "                results = mp_hands.detect(image)\n",
    "                landmarks_np = processed_values = process_raw_features(results)\n",
    "                row = list(landmarks_np[0]) + [cls]\n",
    "                # print (row, len(row))\n",
    "                df.loc[len(df)] = row\n"
   ],
   "id": "82c972546c9c6a7f",
   "outputs": [],
   "execution_count": 12
  },
  {
   "metadata": {
    "ExecuteTime": {
     "end_time": "2025-05-19T20:36:03.617258Z",
     "start_time": "2025-05-19T20:36:03.591293Z"
    }
   },
   "cell_type": "code",
   "source": "df.to_csv('hand_landmarks_with_class.csv', index=False)",
   "id": "40f4a9a40097e5f9",
   "outputs": [],
   "execution_count": 14
  }
 ],
 "metadata": {
  "kernelspec": {
   "display_name": "Python 3",
   "language": "python",
   "name": "python3"
  },
  "language_info": {
   "codemirror_mode": {
    "name": "ipython",
    "version": 2
   },
   "file_extension": ".py",
   "mimetype": "text/x-python",
   "name": "python",
   "nbconvert_exporter": "python",
   "pygments_lexer": "ipython2",
   "version": "2.7.6"
  }
 },
 "nbformat": 4,
 "nbformat_minor": 5
}
