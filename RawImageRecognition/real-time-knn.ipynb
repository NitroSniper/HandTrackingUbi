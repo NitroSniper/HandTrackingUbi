{
 "cells": [
  {
   "metadata": {},
   "cell_type": "code",
   "outputs": [],
   "execution_count": null,
   "source": [
    "import cv2\n",
    "import numpy as np\n",
    "import mediapipe as mp\n",
    "import pickle\n",
    "from mediapipe import solutions\n",
    "from mediapipe.framework.formats import landmark_pb2"
   ],
   "id": "29b9d20203bcbb10"
  },
  {
   "metadata": {},
   "cell_type": "code",
   "outputs": [],
   "execution_count": null,
   "source": [
    "# configuration\n",
    "model_path = \"neigh-model.pkl\"  # path to the saved model\n",
    "data_direct = \"images\"\n",
    "image_size = (244, 244)  # resize image\n",
    "# dominant_hand = \"Right\" # can be changed (but need to train the new model)"
   ],
   "id": "fc530f4e84601242"
  },
  {
   "metadata": {},
   "cell_type": "code",
   "outputs": [],
   "execution_count": null,
   "source": [
    "# Load knn model and labelEncoder\n",
    "with open(model_path, 'rb') as f:\n",
    "    model, label = pickle.load(f)"
   ],
   "id": "662c19c870cc34c8"
  },
  {
   "metadata": {},
   "cell_type": "code",
   "outputs": [],
   "execution_count": null,
   "source": [
    "def process_raw_features(raw_features: mp.tasks.vision.HandLandmarkerResult):\n",
    "    landmarks = []\n",
    "    for hand_landmarks in results.hand_landmarks:\n",
    "        x_coordinates = np.array([landmark.x for landmark in hand_landmarks])\n",
    "        x_min, x_max = x_coordinates.min(), x_coordinates.max()\n",
    "        norm_x_coordinates = (x_coordinates - x_min) / (x_max - x_min)\n",
    "        y_coordinates = np.array([landmark.y for landmark in hand_landmarks])\n",
    "        y_min, y_max = y_coordinates.min(), y_coordinates.max()\n",
    "        norm_y_coordinates = (y_coordinates - y_min) / (y_max - y_min)\n",
    "        z_coordinates = np.array([landmark.z for landmark in hand_landmarks])\n",
    "\n",
    "        landmarks.append(np.array([\n",
    "            [x, y, z] for x, y, z in zip(norm_x_coordinates, norm_y_coordinates, z_coordinates)\n",
    "        ]).flatten())\n",
    "    return landmarks"
   ],
   "id": "7392d83b926d7461"
  },
  {
   "metadata": {},
   "cell_type": "code",
   "outputs": [],
   "execution_count": null,
   "source": [
    "MARGIN = 10  # pixels\n",
    "FONT_SIZE = 1\n",
    "FONT_THICKNESS = 1\n",
    "HANDEDNESS_TEXT_COLOR = (88, 205, 54)  # vibrant green\n",
    "\n",
    "\n",
    "def draw_landmarks_on_image(rgb_image, detection_result, label, debug):\n",
    "    annotated_image = np.copy(rgb_image)\n",
    "\n",
    "    # Loop through the detected hands to visualize.\n",
    "    for hand_landmarks, handedness in zip(detection_result.hand_landmarks, detection_result.handedness):\n",
    "\n",
    "        # Draw the hand landmarks.\n",
    "        if debug:\n",
    "            hand_landmarks_proto = landmark_pb2.NormalizedLandmarkList()\n",
    "            hand_landmarks_proto.landmark.extend([\n",
    "                landmark_pb2.NormalizedLandmark(x=landmark.x, y=landmark.y, z=landmark.z) for landmark in hand_landmarks\n",
    "            ])\n",
    "            solutions.drawing_utils.draw_landmarks(\n",
    "                annotated_image,\n",
    "                hand_landmarks_proto,\n",
    "                solutions.hands.HAND_CONNECTIONS,\n",
    "                solutions.drawing_styles.get_default_hand_landmarks_style(),\n",
    "                solutions.drawing_styles.get_default_hand_connections_style())\n",
    "\n",
    "        # Get the top left corner of the detected hand's bounding box.\n",
    "        height, width, _ = annotated_image.shape\n",
    "        x_coordinates = [landmark.x for landmark in hand_landmarks]\n",
    "        y_coordinates = [landmark.y for landmark in hand_landmarks]\n",
    "        text_x = int(min(x_coordinates) * width)\n",
    "        text_y = int(min(y_coordinates) * height) - MARGIN\n",
    "\n",
    "        # Draw handedness (left or right hand) on the image.\n",
    "        cv2.putText(annotated_image, f\"{label}\",\n",
    "                    (text_x, text_y), cv2.FONT_HERSHEY_DUPLEX,\n",
    "                    FONT_SIZE, HANDEDNESS_TEXT_COLOR, FONT_THICKNESS, cv2.LINE_AA)\n",
    "\n",
    "    return annotated_image"
   ],
   "id": "3df315c8cc2b8629"
  },
  {
   "metadata": {},
   "cell_type": "code",
   "outputs": [],
   "execution_count": null,
   "source": [
    "def process_and_evaluate(raw_features: mp.tasks.vision.HandLandmarkerResult, output_image: mp.Image, debug: bool):\n",
    "    X = process_raw_features(raw_features)\n",
    "    if len(X) == 0:\n",
    "        return output_image.numpy_view()\n",
    "    result = label.classes_[model.predict(X)]\n",
    "    annotated_image = draw_landmarks_on_image(output_image.numpy_view(), raw_features, result, debug)\n",
    "    return annotated_image"
   ],
   "id": "d6453a507b7327ab"
  },
  {
   "metadata": {},
   "cell_type": "code",
   "outputs": [],
   "execution_count": null,
   "source": [
    "# load the trained model\n",
    "base_options = mp.tasks.BaseOptions(model_asset_path='hand_landmarker.task')\n",
    "options = mp.tasks.vision.HandLandmarkerOptions(\n",
    "    base_options=base_options, num_hands=1, running_mode=mp.tasks.vision.RunningMode.IMAGE,\n",
    "    # result_callback=process_and_evaluate\n",
    ")"
   ],
   "id": "692fbbc024ba3079"
  },
  {
   "metadata": {},
   "cell_type": "code",
   "outputs": [],
   "execution_count": null,
   "source": [
    "with mp.tasks.vision.HandLandmarker.create_from_options(options) as detector:\n",
    "    capture = cv2.VideoCapture(0)\n",
    "    capture.set(cv2.CAP_PROP_FRAME_WIDTH, image_size[0])\n",
    "    capture.set(cv2.CAP_PROP_FRAME_HEIGHT, image_size[1])\n",
    "    while cv2.waitKey(10) != ord('q'):\n",
    "        _, frame = capture.read()\n",
    "        frame = cv2.flip(frame, 1)\n",
    "        image = mp.Image(image_format=mp.ImageFormat.SRGB, data=frame)\n",
    "        results = detector.detect(image)\n",
    "        output_image = process_and_evaluate(results, image, debug=False)\n",
    "        cv2.imshow(\"Picture\", output_image)"
   ],
   "id": "a9bfbb6d7d349a8b"
  }
 ],
 "metadata": {
  "kernelspec": {
   "display_name": "Python 3",
   "language": "python",
   "name": "python3"
  },
  "language_info": {
   "codemirror_mode": {
    "name": "ipython",
    "version": 2
   },
   "file_extension": ".py",
   "mimetype": "text/x-python",
   "name": "python",
   "nbconvert_exporter": "python",
   "pygments_lexer": "ipython2",
   "version": "2.7.6"
  }
 },
 "nbformat": 4,
 "nbformat_minor": 5
}
