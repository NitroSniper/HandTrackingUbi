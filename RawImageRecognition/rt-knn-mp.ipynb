{
 "cells": [
  {
   "metadata": {},
   "cell_type": "code",
   "outputs": [],
   "execution_count": null,
   "source": [
    "import cv2\n",
    "import numpy as np\n",
    "import mediapipe as mp"
   ],
   "id": "6d6116af869c923"
  },
  {
   "metadata": {},
   "cell_type": "code",
   "outputs": [],
   "execution_count": null,
   "source": [
    "# configuration\n",
    "model_path = \"neigh-model.pkl\"  # path to the saved model\n",
    "data_direct   = \"images\"\n",
    "image_size   = (244, 244) # resize image\n",
    "# dominant_hand = \"Right\" # can be changed (but need to train the new model)"
   ],
   "id": "5c78ad10cbf79e82"
  },
  {
   "metadata": {},
   "cell_type": "code",
   "outputs": [],
   "execution_count": null,
   "source": [
    "# Load knn model and labelEncoder\n",
    "import pickle\n",
    "with open(model_path, 'rb') as f:\n",
    "    model, label = pickle.load(f)"
   ],
   "id": "a8c573e328819222"
  },
  {
   "metadata": {},
   "cell_type": "code",
   "outputs": [],
   "execution_count": null,
   "source": [
    "def process_raw_features(raw_features: mp.tasks.vision.HandLandmarkerResult):\n",
    "    landmarks = []\n",
    "    for hand_landmarks in results.hand_landmarks:\n",
    "        x_coordinates = np.array([landmark.x for landmark in hand_landmarks])\n",
    "        x_min, x_max = x_coordinates.min(), x_coordinates.max()\n",
    "        norm_x_coordinates = (x_coordinates - x_min) / (x_max - x_min)\n",
    "        y_coordinates = np.array([landmark.y for landmark in hand_landmarks])\n",
    "        y_min, y_max = y_coordinates.min(), y_coordinates.max()\n",
    "        norm_y_coordinates = (y_coordinates - y_min) / (y_max - y_min)\n",
    "        z_coordinates = np.array([landmark.z for landmark in hand_landmarks])\n",
    "\n",
    "        landmarks.append(np.array([\n",
    "            [x, y, z] for x, y, z in zip(norm_x_coordinates, norm_y_coordinates,     z_coordinates)\n",
    "        ]).flatten())\n",
    "    return landmarks"
   ],
   "id": "fc6b9ecc2608151"
  },
  {
   "metadata": {},
   "cell_type": "code",
   "outputs": [],
   "execution_count": null,
   "source": [
    "from mediapipe import solutions\n",
    "from mediapipe.framework.formats import landmark_pb2\n",
    "\n",
    "\n",
    "MARGIN = 10  # pixels\n",
    "FONT_SIZE = 1\n",
    "FONT_THICKNESS = 1\n",
    "HANDEDNESS_TEXT_COLOR = (88, 205, 54) # vibrant green\n",
    "\n",
    "def draw_landmarks_on_image(rgb_image, detection_result, label):\n",
    "    annotated_image = np.copy(rgb_image)\n",
    "\n",
    "    # Loop through the detected hands to visualize.\n",
    "    for hand_landmarks, handedness in zip(detection_result.hand_landmarks, detection_result.handedness):\n",
    "\n",
    "        # Draw the hand landmarks.\n",
    "        hand_landmarks_proto = landmark_pb2.NormalizedLandmarkList()\n",
    "        print(handedness[0].category_name, len(hand_landmarks))\n",
    "        hand_landmarks_proto.landmark.extend([\n",
    "            landmark_pb2.NormalizedLandmark(x=landmark.x, y=landmark.y, z=landmark.z) for landmark in hand_landmarks\n",
    "        ])\n",
    "        solutions.drawing_utils.draw_landmarks(\n",
    "            annotated_image,\n",
    "            hand_landmarks_proto,\n",
    "            solutions.hands.HAND_CONNECTIONS,\n",
    "            solutions.drawing_styles.get_default_hand_landmarks_style(),\n",
    "            solutions.drawing_styles.get_default_hand_connections_style())\n",
    "\n",
    "        # Get the top left corner of the detected hand's bounding box.\n",
    "        height, width, _ = annotated_image.shape\n",
    "        x_coordinates = [landmark.x for landmark in hand_landmarks]\n",
    "        y_coordinates = [landmark.y for landmark in hand_landmarks]\n",
    "        text_x = int(min(x_coordinates) * width)\n",
    "        text_y = int(min(y_coordinates) * height) - MARGIN\n",
    "\n",
    "        # Draw handedness (left or right hand) on the image.\n",
    "        cv2.putText(annotated_image, f\"{label}\",\n",
    "                    (text_x, text_y), cv2.FONT_HERSHEY_DUPLEX,\n",
    "                    FONT_SIZE, HANDEDNESS_TEXT_COLOR, FONT_THICKNESS, cv2.LINE_AA)\n",
    "\n",
    "    return annotated_image\n"
   ],
   "id": "840fdafdbecb7b74"
  },
  {
   "metadata": {},
   "cell_type": "code",
   "outputs": [],
   "execution_count": null,
   "source": [
    "def process_and_evaluate(raw_features: mp.tasks.vision.HandLandmarkerResult, output_image: mp.Image, ts):\n",
    "    X = process_raw_features(raw_features)\n",
    "    if len(X) == 0:\n",
    "        return output_image.numpy_view()\n",
    "    result = label.classes_[model.predict(X)]\n",
    "    annotated_image = draw_landmarks_on_image(output_image.numpy_view(), raw_features, result)\n",
    "    return annotated_image"
   ],
   "id": "f9de66789f17799a"
  },
  {
   "metadata": {},
   "cell_type": "code",
   "outputs": [],
   "execution_count": null,
   "source": [
    "import mediapipe as mp\n",
    "# load the trained model\n",
    "base_options = mp.tasks.BaseOptions(model_asset_path='hand_landmarker.task')\n",
    "options = mp.tasks.vision.HandLandmarkerOptions(\n",
    "    base_options=base_options, num_hands=1, running_mode=mp.tasks.vision.RunningMode.IMAGE,\n",
    "    # result_callback=process_and_evaluate\n",
    ")"
   ],
   "id": "86583faa7aa93da5"
  },
  {
   "metadata": {},
   "cell_type": "code",
   "outputs": [],
   "execution_count": null,
   "source": [
    "from time import perf_counter\n",
    "\n",
    "with mp.tasks.vision.HandLandmarker.create_from_options(options) as detector:\n",
    "    capture = cv2.VideoCapture(0)\n",
    "    while cv2.waitKey(100) != ord('q'):\n",
    "        _, frame = capture.read()\n",
    "\n",
    "        frame = cv2.flip(frame, 1)\n",
    "        image = mp.Image(image_format=mp.ImageFormat.SRGB, data=frame)\n",
    "        results = detector.detect(image)\n",
    "        output_image = process_and_evaluate(results, image, None)\n",
    "\n",
    "        cv2.imshow(\"Picture\", output_image)\n",
    "        # STEP 5: Process the classification result. In this case, visualize it.\n",
    "        # cv2.imshow(\"Output\", frame)\n",
    "import numpy as np\n",
    "import mediapipe as mp"
   ],
   "id": "ee06b500708c76b9"
  }
 ],
 "metadata": {
  "kernelspec": {
   "display_name": "Python final-year24",
   "language": "python",
   "name": "final-year24"
  },
  "language_info": {
   "codemirror_mode": {
    "name": "ipython",
    "version": 3
   },
   "file_extension": ".py",
   "mimetype": "text/x-python",
   "name": "python",
   "nbconvert_exporter": "python",
   "pygments_lexer": "ipython3",
   "version": "3.11.10"
  }
 },
 "nbformat": 4,
 "nbformat_minor": 5
}
